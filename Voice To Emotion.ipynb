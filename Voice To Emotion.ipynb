{
 "cells": [
  {
   "cell_type": "code",
   "execution_count": null,
   "id": "5de1ef14",
   "metadata": {},
   "outputs": [],
   "source": [
    "import speech_recognition as sr\n",
    "from textblob import TextBlob\n",
    "\n",
    "def audio_to_text(file_path):\n",
    "    # Initialize the recognizer\n",
    "    recognizer = sr.Recognizer()\n",
    "\n",
    "    # Load the audio file\n",
    "    with sr.AudioFile(file_path) as source:\n",
    "        audio_data = recognizer.record(source)\n",
    "\n",
    "    try:\n",
    "        # Convert audio to text\n",
    "        text = recognizer.recognize_google(audio_data)\n",
    "        return text\n",
    "    except sr.UnknownValueError:\n",
    "        print(\"Speech Recognition could not understand audio\")\n",
    "        return None\n",
    "    except sr.RequestError as e:\n",
    "        print(f\"Could not request results from Google Speech Recognition service; {e}\")\n",
    "        return None\n",
    "\n",
    "def analyze_sentiment(text):\n",
    "    # Create a TextBlob object\n",
    "    blob = TextBlob(text)\n",
    "\n",
    "    # Get sentiment polarity\n",
    "    polarity = blob.sentiment.polarity\n",
    "\n",
    "    # Define sentiment categories based on polarity\n",
    "    if polarity > 0:\n",
    "        return \"Positive\"\n",
    "    elif polarity < 0:\n",
    "        return \"Negative\"\n",
    "    else:\n",
    "        return \"Neutral\"\n",
    "\n",
    "def main():\n",
    "    # Specify the path to the MP3 file\n",
    "    mp3_file_path = \"path/to/your/file.mp3\"\n",
    "\n",
    "    # Convert audio to text\n",
    "    transcribed_text = audio_to_text(mp3_file_path)\n",
    "\n",
    "    if transcribed_text:\n",
    "        print(\"Transcribed Text:\")\n",
    "        print(transcribed_text)\n",
    "\n",
    "        # Analyze sentiment\n",
    "        sentiment = analyze_sentiment(transcribed_text)\n",
    "        print(\"\\nSentiment Analysis:\")\n",
    "        print(f\"Sentiment: {sentiment}\")\n",
    "\n",
    "if __name__ == \"__main__\":\n",
    "    main()\n"
   ]
  }
 ],
 "metadata": {
  "kernelspec": {
   "display_name": "Python 3 (ipykernel)",
   "language": "python",
   "name": "python3"
  },
  "language_info": {
   "codemirror_mode": {
    "name": "ipython",
    "version": 3
   },
   "file_extension": ".py",
   "mimetype": "text/x-python",
   "name": "python",
   "nbconvert_exporter": "python",
   "pygments_lexer": "ipython3",
   "version": "3.10.9"
  }
 },
 "nbformat": 4,
 "nbformat_minor": 5
}
